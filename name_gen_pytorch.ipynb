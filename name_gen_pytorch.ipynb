{
 "cells": [
  {
   "cell_type": "code",
   "execution_count": null,
   "id": "adeaa8f3",
   "metadata": {},
   "outputs": [],
   "source": [
    "import re\n",
    "\n",
    "import torch\n",
    "import torch.nn as nn\n",
    "import torch.nn.functional as F\n",
    "\n",
    "import pandas as pd\n",
    "import matplotlib.pyplot as plt"
   ]
  },
  {
   "cell_type": "code",
   "execution_count": null,
   "id": "04e3083a",
   "metadata": {},
   "outputs": [],
   "source": [
    "# df = pd.read_csv(\"https://raw.githubusercontent.com/amitness/gender-data/refs/heads/master/genders.csv\")\n",
    "df = pd.read_csv(\"names.csv\")\n",
    "df = pd.DataFrame(df)\n",
    "# df[\"name\"] = df[\"name\"].apply(lambda x: re.sub(r\"\\(.*?\\)\", \"\", x))\n",
    "names = df.name.unique()"
   ]
  },
  {
   "cell_type": "markdown",
   "id": "054606fd",
   "metadata": {},
   "source": [
    "Distribution of names based on the first letter"
   ]
  },
  {
   "cell_type": "code",
   "execution_count": null,
   "id": "5d760d6b",
   "metadata": {},
   "outputs": [],
   "source": [
    "count = {}\n",
    "for nm in names:\n",
    "  if nm[0] in count:\n",
    "    count[nm[0]] += 1\n",
    "  else:\n",
    "    count[nm[0]] = 1\n",
    "\n",
    "plt.plot(count.keys(), count.values())"
   ]
  },
  {
   "cell_type": "markdown",
   "id": "e078f6b4",
   "metadata": {},
   "source": [
    "Getting all the vowels out of data and making a key value map of:\n",
    "  - character to index\n",
    "  - index to character"
   ]
  },
  {
   "cell_type": "code",
   "execution_count": null,
   "id": "393be24d",
   "metadata": {},
   "outputs": [],
   "source": [
    "vowels = [\".\"] + sorted(list(set(\"\".join(names))))\n",
    "char_to_ix = {\n",
    "    ch: i for i, ch in enumerate(vowels)\n",
    "}\n",
    "ix_to_char = {\n",
    "    i: ch for i, ch in enumerate(vowels)\n",
    "}"
   ]
  },
  {
   "cell_type": "markdown",
   "id": "f7bf8efc",
   "metadata": {},
   "source": [
    "### Sample of what the data if indexed to vowels looks like"
   ]
  },
  {
   "cell_type": "code",
   "execution_count": null,
   "id": "f6890652",
   "metadata": {},
   "outputs": [],
   "source": [
    "block_size = 3\n",
    "for nm in names[:2]:\n",
    "  block = [\".\"] * block_size\n",
    "  nm = nm + \".\"\n",
    "  print(nm)\n",
    "  for ch in nm:\n",
    "    print(block, ch)\n",
    "    block = block[1:] + [ch]"
   ]
  },
  {
   "cell_type": "markdown",
   "id": "0d620e57",
   "metadata": {},
   "source": [
    "### Code to generate training and testing data"
   ]
  },
  {
   "cell_type": "code",
   "execution_count": null,
   "id": "23bccb50",
   "metadata": {},
   "outputs": [],
   "source": [
    "device = \"cpu\"\n",
    "if torch.cuda.is_available():\n",
    "  device = torch.device(\"cuda\")\n",
    "\n",
    "print(device)"
   ]
  },
  {
   "cell_type": "code",
   "execution_count": null,
   "id": "1941ce06",
   "metadata": {},
   "outputs": [],
   "source": [
    "def generate_data(data, block_size):\n",
    "  X = []\n",
    "  Y = []\n",
    "  for d in data:\n",
    "    block = [0] * block_size\n",
    "    d = d + \".\" # to indicate the end of a nmae\n",
    "    for ch in d:\n",
    "      X.append(block)\n",
    "      Y.append(char_to_ix[ch])\n",
    "      block = block[1:] + [char_to_ix[ch]]\n",
    "  # X, Y = torch.tensor(X), torch.tensor(Y)\n",
    "  X, Y = torch.tensor(X).to(device=device), torch.tensor(Y).to(device=device)\n",
    "  return X, Y"
   ]
  },
  {
   "cell_type": "code",
   "execution_count": null,
   "id": "fb6a0d98",
   "metadata": {},
   "outputs": [],
   "source": [
    "total_names = len(names)\n",
    "num_train, num_test = round(0.8 * total_names), round(0.2 * total_names)\n",
    "\n",
    "block_size = 3\n",
    "\n",
    "X_train, Y_train = generate_data(names[:num_train], block_size)\n",
    "X_test, Y_test = generate_data(names[num_train:], block_size)\n",
    "\n",
    "X_train[:2]"
   ]
  },
  {
   "cell_type": "code",
   "execution_count": null,
   "id": "75b9bd87",
   "metadata": {},
   "outputs": [],
   "source": [
    "V = len(vowels); D = 10; batch_size = 500; hidden_size = 100\n",
    "lr = 0.05\n",
    "\n",
    "char_embeddings = torch.randn(V, D).to(device=device)\n",
    "\n",
    "char_embeddings[X_train].shape"
   ]
  },
  {
   "cell_type": "code",
   "execution_count": null,
   "id": "867c6044",
   "metadata": {},
   "outputs": [],
   "source": [
    "def flatten(x):\n",
    "  N = x.shape[0]\n",
    "  return x.view(N, -1)\n",
    "\n",
    "idxs = torch.randint(0, V, size=(batch_size,))\n",
    "emb = nn.Embedding(num_embeddings=V, embedding_dim=D)\n",
    "fc1 = nn.Linear(D * block_size, 100) # embedding_dim * block size\n",
    "bn = nn.BatchNorm1d(100)\n",
    "fc2 = nn.Linear(100, V) # hidden_size, num_classes\n",
    "\n",
    "x = emb(X_train[idxs].to(device=\"cpu\"))\n",
    "print(x.shape)\n",
    "\n",
    "x = flatten(x)\n",
    "print(x.shape)\n",
    "\n",
    "x = fc1(x)\n",
    "print(x.shape)\n",
    "\n",
    "x = bn(x)\n",
    "print(x.shape)\n",
    "\n",
    "x = F.tanh(x)\n",
    "print(x.shape)\n",
    "\n",
    "x = fc2(x)\n",
    "print(x.shape)\n",
    "\n",
    "\n",
    "del x, emb, fc1, fc2, bn;"
   ]
  },
  {
   "cell_type": "code",
   "execution_count": null,
   "id": "fd507315",
   "metadata": {},
   "outputs": [],
   "source": [
    "class NameGenModel(nn.Module):\n",
    "  def __init__(self, hidden_size, block_size, embedding_dim, num_classes):\n",
    "    super().__init__()\n",
    "    self.embed = nn.Embedding(num_embeddings=num_classes, embedding_dim=embedding_dim)\n",
    "\n",
    "    self.fc1 = nn.Linear(embedding_dim * block_size, hidden_size)\n",
    "    nn.init.xavier_normal_(self.fc1.weight)\n",
    "\n",
    "    self.bn = nn.BatchNorm1d(hidden_size)\n",
    "\n",
    "    self.fc2 = nn.Linear(hidden_size, num_classes)\n",
    "    nn.init.xavier_normal_(self.fc2.weight)\n",
    "  \n",
    "  def forward(self, x):\n",
    "    x = self.embed(x) # becomes (N, block_size, embedding_dim)\n",
    "    x = flatten(x) # becomes: (N, block_size * embedding_dim)\n",
    "    x = self.fc1(x)\n",
    "    x = self.bn(x)\n",
    "    x = F.tanh(x)\n",
    "    scores = self.fc2(x)\n",
    "    \n",
    "    return scores\n"
   ]
  },
  {
   "cell_type": "code",
   "execution_count": null,
   "id": "cc274e64",
   "metadata": {},
   "outputs": [],
   "source": [
    "model = NameGenModel(hidden_size, block_size, D, V)\n",
    "optimizer = torch.optim.SGD(model.parameters(), lr=lr)"
   ]
  },
  {
   "cell_type": "code",
   "execution_count": null,
   "id": "226d397e",
   "metadata": {},
   "outputs": [],
   "source": [
    "def check_accuracy(model: NameGenModel, x: torch.tensor, y: torch.tensor):\n",
    "  num_correct = 0\n",
    "  num_samples = 0\n",
    "  model.eval()\n",
    "\n",
    "  with torch.no_grad():\n",
    "    x = x.to(device=device, dtype=torch.long)\n",
    "    y = y.to(device=device, dtype=torch.long)\n",
    "    scores = model(x)\n",
    "\n",
    "    _, preds = scores.max(axis=1)\n",
    "    num_correct = (preds == y).sum()\n",
    "    num_samples = preds.size(0)\n",
    "  \n",
    "  acc = float(num_correct) / num_samples\n",
    "\n",
    "  print(f\"got {100 * acc} % correct\")\n",
    "      "
   ]
  },
  {
   "cell_type": "code",
   "execution_count": null,
   "id": "c2e4bf14",
   "metadata": {},
   "outputs": [],
   "source": [
    "epochs = 1\n",
    "model = model.to(device=device)\n",
    "\n",
    "loss_history = []\n",
    "\n",
    "for e in range(epochs):\n",
    "  print(f\"Epoch {e}:\")\n",
    "  for t in range(4000):\n",
    "    model.train()\n",
    "    idxs = torch.randint(0, X_train.shape[0], size=(batch_size,))\n",
    "    x, y = X_train[idxs], Y_train[idxs]\n",
    "    # copying tensors to gpu (if available)\n",
    "    # x, y = x.to(device=device, dtype=torch.long), y.to(device=device, dtype=torch.long)\n",
    "\n",
    "    scores = model(x)\n",
    "\n",
    "    loss = F.cross_entropy(scores, y)\n",
    "\n",
    "    optimizer.zero_grad()\n",
    "\n",
    "    loss.backward()\n",
    "\n",
    "    optimizer.step()\n",
    "\n",
    "    loss_history.append(loss.item())\n",
    "    if t % 500 == 0:\n",
    "      print(f\"\\tIteration {t}, loss = {loss.item()}\")\n",
    "  # check_accuracy(model, X_test, Y_test)\n"
   ]
  },
  {
   "cell_type": "code",
   "execution_count": null,
   "id": "e62a89df",
   "metadata": {},
   "outputs": [],
   "source": [
    "plt.plot(loss_history)"
   ]
  },
  {
   "cell_type": "code",
   "execution_count": null,
   "id": "dba97410",
   "metadata": {},
   "outputs": [],
   "source": [
    "def sampling(model: NameGenModel, num_samples: int=10):\n",
    "  model.eval()\n",
    "  \n",
    "  with torch.no_grad():\n",
    "    # block = torch.full((1, block_size), 0).to(device=device, dtype=torch.long)\n",
    "\n",
    "    for _ in range(num_samples):\n",
    "      block = [0] * block_size\n",
    "      output = []\n",
    "      while True:\n",
    "        scores = model(torch.tensor(block).view(1, -1).to(device=device))\n",
    "\n",
    "        scores = F.softmax(scores, dim=1)\n",
    "\n",
    "        ix = torch.multinomial(scores, num_samples=1).item()\n",
    "        if ix_to_char[ix] == \".\":\n",
    "          break\n",
    "        output.append(ix_to_char[ix])\n",
    "        block = block[1:] + [ix]\n",
    "      print(\"\".join(output))\n",
    "\n"
   ]
  },
  {
   "cell_type": "code",
   "execution_count": null,
   "id": "bf2624c9",
   "metadata": {},
   "outputs": [],
   "source": [
    "sampling(model, 10)"
   ]
  }
 ],
 "metadata": {
  "kernelspec": {
   "display_name": "Python 3",
   "language": "python",
   "name": "python3"
  },
  "language_info": {
   "codemirror_mode": {
    "name": "ipython",
    "version": 3
   },
   "file_extension": ".py",
   "mimetype": "text/x-python",
   "name": "python",
   "nbconvert_exporter": "python",
   "pygments_lexer": "ipython3",
   "version": "3.12.2"
  }
 },
 "nbformat": 4,
 "nbformat_minor": 5
}
