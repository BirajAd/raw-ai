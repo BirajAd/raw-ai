{
 "cells": [
  {
   "cell_type": "code",
   "execution_count": 58,
   "id": "bdd6841e",
   "metadata": {},
   "outputs": [],
   "source": [
    "import re\n",
    "\n",
    "import torch\n",
    "import pandas as pd\n",
    "\n",
    "from helpers.forward_pass import *\n",
    "from helpers.backward_pass import *\n",
    "\n",
    "from helpers.weight_util import *"
   ]
  },
  {
   "cell_type": "code",
   "execution_count": 59,
   "id": "a79de3d4",
   "metadata": {},
   "outputs": [],
   "source": [
    "# df = pd.read_csv(\"https://raw.githubusercontent.com/amitness/gender-data/refs/heads/master/genders.csv\")\n",
    "df = pd.read_csv(\"names.csv\")\n",
    "df = pd.DataFrame(df)\n",
    "# df[\"name\"] = df[\"name\"].apply(lambda x: re.sub(r\"\\(.*?\\)\", \"\", x))\n",
    "names = df.name.unique()"
   ]
  },
  {
   "cell_type": "code",
   "execution_count": 60,
   "id": "c7126a52",
   "metadata": {},
   "outputs": [
    {
     "data": {
      "text/plain": [
       "{0: '.',\n",
       " 1: 'a',\n",
       " 2: 'b',\n",
       " 3: 'c',\n",
       " 4: 'd',\n",
       " 5: 'e',\n",
       " 6: 'f',\n",
       " 7: 'g',\n",
       " 8: 'h',\n",
       " 9: 'i',\n",
       " 10: 'j',\n",
       " 11: 'k',\n",
       " 12: 'l',\n",
       " 13: 'm',\n",
       " 14: 'n',\n",
       " 15: 'o',\n",
       " 16: 'p',\n",
       " 17: 'q',\n",
       " 18: 'r',\n",
       " 19: 's',\n",
       " 20: 't',\n",
       " 21: 'u',\n",
       " 22: 'v',\n",
       " 23: 'w',\n",
       " 24: 'x',\n",
       " 25: 'y',\n",
       " 26: 'z'}"
      ]
     },
     "execution_count": 60,
     "metadata": {},
     "output_type": "execute_result"
    }
   ],
   "source": [
    "vowels = [\".\"] + sorted(list(set(\"\".join(names))))\n",
    "char_to_ix = {\n",
    "    ch: i for i, ch in enumerate(vowels)\n",
    "}\n",
    "ix_to_char = {\n",
    "    i: ch for i, ch in enumerate(vowels)\n",
    "}\n",
    "ix_to_char"
   ]
  },
  {
   "cell_type": "code",
   "execution_count": 61,
   "id": "2645cbe0",
   "metadata": {},
   "outputs": [
    {
     "name": "stdout",
     "output_type": "stream",
     "text": [
      "aabha.\n",
      "['.', '.', '.'] a\n",
      "['.', '.', 'a'] a\n",
      "['.', 'a', 'a'] b\n",
      "['a', 'a', 'b'] h\n",
      "['a', 'b', 'h'] a\n",
      "['b', 'h', 'a'] .\n",
      "aabhas.\n",
      "['.', '.', '.'] a\n",
      "['.', '.', 'a'] a\n",
      "['.', 'a', 'a'] b\n",
      "['a', 'a', 'b'] h\n",
      "['a', 'b', 'h'] a\n",
      "['b', 'h', 'a'] s\n",
      "['h', 'a', 's'] .\n"
     ]
    }
   ],
   "source": [
    "block_size = 3\n",
    "for nm in names[:2]:\n",
    "  block = [\".\"] * block_size\n",
    "  nm = nm + \".\"\n",
    "  print(nm)\n",
    "  for ch in nm:\n",
    "    print(block, ch)\n",
    "    block = block[1:] + [ch]"
   ]
  },
  {
   "cell_type": "code",
   "execution_count": 62,
   "id": "d8e7b5bf",
   "metadata": {},
   "outputs": [],
   "source": [
    "def generate_data(data, block_size):\n",
    "  X = []\n",
    "  Y = []\n",
    "  for d in data:\n",
    "    block = [0] * block_size\n",
    "    d = d + \".\" # to indicate the end of a nmae\n",
    "    for ch in d:\n",
    "      X.append(block)\n",
    "      Y.append(char_to_ix[ch])\n",
    "      block = block[1:] + [char_to_ix[ch]]\n",
    "  # X, Y = torch.tensor(X), torch.tensor(Y)\n",
    "  X, Y = np.array(X), np.array(Y)\n",
    "  return X, Y"
   ]
  },
  {
   "cell_type": "code",
   "execution_count": 63,
   "id": "6c4c82af",
   "metadata": {},
   "outputs": [
    {
     "data": {
      "text/plain": [
       "array([[0, 0, 0],\n",
       "       [0, 0, 1]])"
      ]
     },
     "execution_count": 63,
     "metadata": {},
     "output_type": "execute_result"
    }
   ],
   "source": [
    "total_names = len(names)\n",
    "num_train, num_test = round(0.8 * total_names), round(0.2 * total_names)\n",
    "\n",
    "block_size = 3\n",
    "\n",
    "X_train, Y_train = generate_data(names[:num_train], block_size)\n",
    "X_test, Y_test = generate_data(names[num_train:], block_size)\n",
    "\n",
    "X_train[:2]"
   ]
  },
  {
   "cell_type": "code",
   "execution_count": 64,
   "id": "b7d4262d",
   "metadata": {},
   "outputs": [],
   "source": [
    "V = len(vowels); D = 10; seed = 2147483647\n",
    "\n",
    "init_method=\"xavier\"\n",
    "# char_embeddings = torch.randn(V, D)\n",
    "char_embeddings = initialize_weight((V, D), init_method, seed)\n",
    "\n",
    "hidden = 300\n",
    "\n",
    "W1 = initialize_weight((block_size * D, hidden), init_method, seed)\n",
    "b1 = np.zeros(hidden)\n",
    "\n",
    "W2 = initialize_weight((hidden, V), init_method, seed)\n",
    "b2 = np.zeros(V)"
   ]
  },
  {
   "cell_type": "code",
   "execution_count": 65,
   "id": "69f31539",
   "metadata": {},
   "outputs": [
    {
     "name": "stdout",
     "output_type": "stream",
     "text": [
      "Loss at iteration: 0 -> 3.252224203187374\n",
      "Loss at iteration: 100 -> 2.4754042353227903\n",
      "Loss at iteration: 200 -> 2.2181374722127716\n",
      "Loss at iteration: 300 -> 2.2706649330711657\n",
      "Loss at iteration: 400 -> 2.3390364858971613\n",
      "Loss at iteration: 500 -> 2.5466928482444158\n",
      "Loss at iteration: 600 -> 2.507632171437079\n",
      "Loss at iteration: 700 -> 2.3400720607974317\n",
      "Loss at iteration: 800 -> 2.201048777372575\n",
      "Loss at iteration: 900 -> 2.2342876819069484\n",
      "Loss at iteration: 1000 -> 1.9534144308362515\n",
      "Loss at iteration: 1100 -> 2.153100485218192\n",
      "Loss at iteration: 1200 -> 2.2745799973410343\n",
      "Loss at iteration: 1300 -> 2.2983324594546435\n",
      "Loss at iteration: 1400 -> 1.8870374359931157\n",
      "Loss at iteration: 1500 -> 2.1880038175443115\n",
      "Loss at iteration: 1600 -> 2.1245026586452074\n",
      "Loss at iteration: 1700 -> 2.0272624825621532\n",
      "Loss at iteration: 1800 -> 2.00803646778744\n",
      "Loss at iteration: 1900 -> 2.1770454556883934\n",
      "Loss at iteration: 2000 -> 1.993398123244409\n",
      "Loss at iteration: 2100 -> 2.236027620460803\n",
      "Loss at iteration: 2200 -> 2.088553203023759\n",
      "Loss at iteration: 2300 -> 2.0520358891058494\n",
      "Loss at iteration: 2400 -> 2.130475677035065\n",
      "Loss at iteration: 2500 -> 2.039451077728698\n",
      "Loss at iteration: 2600 -> 2.2247438734118807\n",
      "Loss at iteration: 2700 -> 2.328195508564789\n",
      "Loss at iteration: 2800 -> 2.096387305683292\n",
      "Loss at iteration: 2900 -> 2.1525845309139395\n",
      "Loss at iteration: 3000 -> 2.021203036736124\n",
      "Loss at iteration: 3100 -> 2.190897031122567\n",
      "Loss at iteration: 3200 -> 2.337179801817851\n",
      "Loss at iteration: 3300 -> 2.073778441435708\n",
      "Loss at iteration: 3400 -> 2.1799880371232723\n",
      "Loss at iteration: 3500 -> 2.1502727800394226\n",
      "Loss at iteration: 3600 -> 2.154520337581851\n",
      "Loss at iteration: 3700 -> 2.078819225943991\n",
      "Loss at iteration: 3800 -> 2.12760326210965\n",
      "Loss at iteration: 3900 -> 2.242230270321582\n"
     ]
    }
   ],
   "source": [
    "\n",
    "# learning_exp = np.linspace(-3, -1.5, 1000)\n",
    "# learning_rates = 10**learning_exp\n",
    "\n",
    "N, block_size = X_train.shape\n",
    "batch_size = 100\n",
    "\n",
    "loss_history = []\n",
    "# lr_history = []\n",
    "\n",
    "lr = 0.02\n",
    "# embed -> affine -> tanh -> affine -> softmax\n",
    "for i in range(4000):\n",
    "  random_indices = np.random.randint(0, N, (batch_size,))\n",
    "  # word embedding\n",
    "  out, embed_cache = word_embedding_forward(X_train[random_indices], char_embeddings)\n",
    "\n",
    "  # affine\n",
    "  out, cache1 = affine_forward(out, W1, b1)\n",
    "\n",
    "  # tanh\n",
    "  out, tan_cache = tanh_forward(out)\n",
    "\n",
    "  # affine\n",
    "  out, cache2 = affine_forward(out, W2, b2)\n",
    "\n",
    "  loss, dscores = softmax_loss(out, Y_train[random_indices])\n",
    "  loss_history.append(loss)\n",
    "  # lr_history.append(learning_exp[i])\n",
    "\n",
    "  if i % 100 == 0:\n",
    "    print(f\"Loss at iteration: {i} -> {loss}\")\n",
    "\n",
    "  # --------------------------------\n",
    "  #         backward pass\n",
    "  # --------------------------------\n",
    "\n",
    "  dx, dw, db = affine_backward(dscores, cache2)\n",
    "\n",
    "  W2 -= lr * dw\n",
    "  b2 -= lr * db\n",
    "\n",
    "  dx = tanh_backward(dx, tan_cache)\n",
    "\n",
    "  dx, dw, db = affine_backward(dx, cache1)\n",
    "\n",
    "  W1 -= lr * dw\n",
    "  b1 -= lr * db\n",
    "\n",
    "  dx = dx.reshape(batch_size, block_size, D)\n",
    "\n",
    "  dw = word_embedding_backward(dx, embed_cache)\n",
    "\n",
    "  char_embeddings -= lr * dw\n"
   ]
  },
  {
   "cell_type": "code",
   "execution_count": 66,
   "id": "81f8b6f5",
   "metadata": {},
   "outputs": [
    {
     "data": {
      "image/png": "[encoded data removed]",
      "text/plain": [
       "<Figure size 640x480 with 1 Axes>"
      ]
     },
     "metadata": {},
     "output_type": "display_data"
    }
   ],
   "source": [
    "import matplotlib.pyplot as plt\n",
    "\n",
    "# plt.plot(lr_history, loss_history)\n",
    "plt.plot(loss_history)\n",
    "plt.show()"
   ]
  },
  {
   "cell_type": "code",
   "execution_count": 67,
   "id": "356b6dfa",
   "metadata": {},
   "outputs": [
    {
     "name": "stdout",
     "output_type": "stream",
     "text": [
      "arsansh\n",
      "maglugk\n",
      "niha\n",
      "ambun\n",
      "nihmi\n",
      "nhan\n",
      "nuram\n",
      "nuth\n",
      "madit\n",
      "ramudsushun\n"
     ]
    }
   ],
   "source": [
    "# sampling\n",
    "np.random.seed(None)\n",
    "num_samples = 10\n",
    "for _ in range(num_samples):\n",
    "  output = []\n",
    "  name = [0] * block_size\n",
    "  while True:\n",
    "    name_ = np.array(name).reshape(1, block_size)\n",
    "\n",
    "    out, _ = word_embedding_forward(name_, char_embeddings)\n",
    "\n",
    "    # affine\n",
    "    out, _ = affine_forward(out, W1, b1)\n",
    "\n",
    "    # tanh\n",
    "    out, _ = tanh_forward(out)\n",
    "\n",
    "    # affine\n",
    "    out, _ = affine_forward(out, W2, b2)\n",
    "\n",
    "    dscores = softmax_loss(out)\n",
    "    index = np.random.choice(a=V, size=1, p=dscores[0]).item()\n",
    "\n",
    "    if index == 0:\n",
    "      break\n",
    "\n",
    "    name = name[1:] + [index]\n",
    "    output.append(index)\n",
    "  print(''.join(ix_to_char[ix] for ix in output))\n"
   ]
  }
 ],
 "metadata": {
  "kernelspec": {
   "display_name": "3.12.2",
   "language": "python",
   "name": "python3"
  },
  "language_info": {
   "codemirror_mode": {
    "name": "ipython",
    "version": 3
   },
   "file_extension": ".py",
   "mimetype": "text/x-python",
   "name": "python",
   "nbconvert_exporter": "python",
   "pygments_lexer": "ipython3",
   "version": "3.12.2"
  }
 },
 "nbformat": 4,
 "nbformat_minor": 5
}
