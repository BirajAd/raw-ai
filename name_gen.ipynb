{
 "cells": [
  {
   "cell_type": "code",
   "execution_count": 209,
   "id": "bdd6841e",
   "metadata": {},
   "outputs": [],
   "source": [
    "import re\n",
    "\n",
    "import torch\n",
    "import pandas as pd\n",
    "\n",
    "from helpers.forward_pass import *\n",
    "from helpers.backward_pass import *\n",
    "\n",
    "from helpers.weight_util import *"
   ]
  },
  {
   "cell_type": "code",
   "execution_count": 210,
   "id": "a79de3d4",
   "metadata": {},
   "outputs": [],
   "source": [
    "# df = pd.read_csv(\"https://raw.githubusercontent.com/amitness/gender-data/refs/heads/master/genders.csv\")\n",
    "df = pd.read_csv(\"names.csv\")\n",
    "df = pd.DataFrame(df)\n",
    "# df[\"name\"] = df[\"name\"].apply(lambda x: re.sub(r\"\\(.*?\\)\", \"\", x))\n",
    "names = df.name.unique()"
   ]
  },
  {
   "cell_type": "code",
   "execution_count": 211,
   "id": "c7126a52",
   "metadata": {},
   "outputs": [
    {
     "data": {
      "text/plain": [
       "{0: '.',\n",
       " 1: 'a',\n",
       " 2: 'b',\n",
       " 3: 'c',\n",
       " 4: 'd',\n",
       " 5: 'e',\n",
       " 6: 'f',\n",
       " 7: 'g',\n",
       " 8: 'h',\n",
       " 9: 'i',\n",
       " 10: 'j',\n",
       " 11: 'k',\n",
       " 12: 'l',\n",
       " 13: 'm',\n",
       " 14: 'n',\n",
       " 15: 'o',\n",
       " 16: 'p',\n",
       " 17: 'q',\n",
       " 18: 'r',\n",
       " 19: 's',\n",
       " 20: 't',\n",
       " 21: 'u',\n",
       " 22: 'v',\n",
       " 23: 'w',\n",
       " 24: 'x',\n",
       " 25: 'y',\n",
       " 26: 'z'}"
      ]
     },
     "execution_count": 211,
     "metadata": {},
     "output_type": "execute_result"
    }
   ],
   "source": [
    "vowels = [\".\"] + sorted(list(set(\"\".join(names))))\n",
    "char_to_ix = {\n",
    "    ch: i for i, ch in enumerate(vowels)\n",
    "}\n",
    "ix_to_char = {\n",
    "    i: ch for i, ch in enumerate(vowels)\n",
    "}\n",
    "ix_to_char"
   ]
  },
  {
   "cell_type": "code",
   "execution_count": 212,
   "id": "2645cbe0",
   "metadata": {},
   "outputs": [
    {
     "name": "stdout",
     "output_type": "stream",
     "text": [
      "aabha.\n",
      "['.', '.', '.'] a\n",
      "['.', '.', 'a'] a\n",
      "['.', 'a', 'a'] b\n",
      "['a', 'a', 'b'] h\n",
      "['a', 'b', 'h'] a\n",
      "['b', 'h', 'a'] .\n",
      "aabhas.\n",
      "['.', '.', '.'] a\n",
      "['.', '.', 'a'] a\n",
      "['.', 'a', 'a'] b\n",
      "['a', 'a', 'b'] h\n",
      "['a', 'b', 'h'] a\n",
      "['b', 'h', 'a'] s\n",
      "['h', 'a', 's'] .\n"
     ]
    }
   ],
   "source": [
    "block_size = 3\n",
    "for nm in names[:2]:\n",
    "  block = [\".\"] * block_size\n",
    "  nm = nm + \".\"\n",
    "  print(nm)\n",
    "  for ch in nm:\n",
    "    print(block, ch)\n",
    "    block = block[1:] + [ch]"
   ]
  },
  {
   "cell_type": "code",
   "execution_count": 213,
   "id": "d8e7b5bf",
   "metadata": {},
   "outputs": [],
   "source": [
    "def generate_data(data, block_size):\n",
    "  X = []\n",
    "  Y = []\n",
    "  for d in data:\n",
    "    block = [0] * block_size\n",
    "    d = d + \".\" # to indicate the end of a nmae\n",
    "    for ch in d:\n",
    "      X.append(block)\n",
    "      Y.append(char_to_ix[ch])\n",
    "      block = block[1:] + [char_to_ix[ch]]\n",
    "  # X, Y = torch.tensor(X), torch.tensor(Y)\n",
    "  X, Y = np.array(X), np.array(Y)\n",
    "  return X, Y"
   ]
  },
  {
   "cell_type": "code",
   "execution_count": 214,
   "id": "6c4c82af",
   "metadata": {},
   "outputs": [
    {
     "data": {
      "text/plain": [
       "array([[0, 0, 0],\n",
       "       [0, 0, 1]])"
      ]
     },
     "execution_count": 214,
     "metadata": {},
     "output_type": "execute_result"
    }
   ],
   "source": [
    "total_names = len(names)\n",
    "num_train, num_test = round(0.8 * total_names), round(0.2 * total_names)\n",
    "\n",
    "block_size = 3\n",
    "\n",
    "X_train, Y_train = generate_data(names[:num_train], block_size)\n",
    "X_test, Y_test = generate_data(names[num_train:], block_size)\n",
    "\n",
    "X_train[:2]"
   ]
  },
  {
   "cell_type": "code",
   "execution_count": 215,
   "id": "b7d4262d",
   "metadata": {},
   "outputs": [],
   "source": [
    "V = len(vowels); D = 10; seed = 42\n",
    "# seed = 2147483647\n",
    "\n",
    "init_method=\"xavier\"\n",
    "# char_embeddings = torch.randn(V, D)\n",
    "char_embeddings = initialize_weight((V, D), init_method, seed)\n",
    "\n",
    "hidden = 300\n",
    "\n",
    "W1 = initialize_weight((block_size * D, hidden), init_method, seed)\n",
    "b1 = np.zeros(hidden)\n",
    "\n",
    "W2 = initialize_weight((hidden, V), init_method, seed)\n",
    "b2 = np.zeros(V)\n",
    "\n",
    "gamma = initialize_weight((hidden,))\n",
    "beta = initialize_weight((hidden,))\n",
    "\n",
    "bn_param = {\n",
    "  \"mode\": \"train\"\n",
    "}\n"
   ]
  },
  {
   "cell_type": "code",
   "execution_count": 216,
   "id": "69f31539",
   "metadata": {},
   "outputs": [
    {
     "name": "stdout",
     "output_type": "stream",
     "text": [
      "Loss at iteration: 0 -> 3.693741231426502\n"
     ]
    },
    {
     "name": "stdout",
     "output_type": "stream",
     "text": [
      "Loss at iteration: 100 -> 14.024120572009968\n",
      "Loss at iteration: 200 -> 9.602049600718104\n",
      "Loss at iteration: 300 -> 8.585671751403112\n",
      "Loss at iteration: 400 -> 8.160155708542035\n",
      "Loss at iteration: 500 -> 6.378783111871351\n",
      "Loss at iteration: 600 -> 7.335843460954354\n",
      "Loss at iteration: 700 -> 6.530575197286671\n",
      "Loss at iteration: 800 -> 7.663986353808747\n",
      "Loss at iteration: 900 -> 7.468126703030595\n",
      "Loss at iteration: 1000 -> 7.3653880631992195\n",
      "Loss at iteration: 1100 -> 4.39978755483137\n",
      "Loss at iteration: 1200 -> 5.965367814253037\n",
      "Loss at iteration: 1300 -> 6.5687861460477155\n",
      "Loss at iteration: 1400 -> 6.745023446535259\n",
      "Loss at iteration: 1500 -> 5.043217434122305\n",
      "Loss at iteration: 1600 -> 6.454667701346409\n",
      "Loss at iteration: 1700 -> 5.533892153793918\n",
      "Loss at iteration: 1800 -> 8.989631508218295\n",
      "Loss at iteration: 1900 -> 5.174046702369765\n",
      "Loss at iteration: 2000 -> 8.109070264431686\n",
      "Loss at iteration: 2100 -> 4.7703754387409365\n",
      "Loss at iteration: 2200 -> 6.404032648340649\n",
      "Loss at iteration: 2300 -> 8.237246872745706\n",
      "Loss at iteration: 2400 -> 6.7250299570804115\n",
      "Loss at iteration: 2500 -> 5.881608446774865\n",
      "Loss at iteration: 2600 -> 5.142754765604748\n",
      "Loss at iteration: 2700 -> 5.480268370257534\n",
      "Loss at iteration: 2800 -> 5.182176483430079\n",
      "Loss at iteration: 2900 -> 5.603265837861137\n",
      "Loss at iteration: 3000 -> 5.465547405745424\n",
      "Loss at iteration: 3100 -> 5.058375119368353\n",
      "Loss at iteration: 3200 -> 3.6652330581013732\n",
      "Loss at iteration: 3300 -> 4.959348991102605\n",
      "Loss at iteration: 3400 -> 6.081055127677514\n",
      "Loss at iteration: 3500 -> 5.910832386598566\n",
      "Loss at iteration: 3600 -> 4.621907822524992\n",
      "Loss at iteration: 3700 -> 4.122119560554517\n",
      "Loss at iteration: 3800 -> 6.141522001871286\n",
      "Loss at iteration: 3900 -> 7.155287864849189\n"
     ]
    }
   ],
   "source": [
    "\n",
    "# learning_exp = np.linspace(-3, -1.5, 1000)\n",
    "# learning_rates = 10**learning_exp\n",
    "\n",
    "N, block_size = X_train.shape\n",
    "batch_size = 100\n",
    "\n",
    "loss_history = []\n",
    "# lr_history = []\n",
    "\n",
    "# embed -> affine -> tanh -> affine -> softmax\n",
    "for i in range(4000):\n",
    "  random_indices = np.random.randint(0, N, (batch_size,))\n",
    "  # word embedding\n",
    "  out, embed_cache = word_embedding_forward(X_train[random_indices], char_embeddings)\n",
    "\n",
    "  # affine\n",
    "  out, cache1 = affine_forward(out, W1, b1)\n",
    "\n",
    "  # batch norm\n",
    "  out, bn1_cache = batchnorm_forward(out, gamma, beta, bn_param)\n",
    "\n",
    "  # tanh\n",
    "  out, tan_cache = tanh_forward(out)\n",
    "\n",
    "  # affine\n",
    "  out, cache2 = affine_forward(out, W2, b2)\n",
    "\n",
    "  loss, dscores = softmax_loss(out, Y_train[random_indices])\n",
    "  loss_history.append(loss)\n",
    "  # lr_history.append(learning_exp[i])\n",
    "\n",
    "  if i % 100 == 0:\n",
    "    print(f\"Loss at iteration: {i} -> {loss}\")\n",
    "\n",
    "  # --------------------------------\n",
    "  #         backward pass\n",
    "  # --------------------------------\n",
    "\n",
    "  dx, dw, db = affine_backward(dscores, cache2)\n",
    "\n",
    "  lr = 0.02\n",
    "  W2 -= lr * dw\n",
    "  b2 -= lr * db\n",
    "\n",
    "  dx = tanh_backward(dx, tan_cache)\n",
    "\n",
    "  dx, dgamma, dbeta = batchnorm_backward(dx, bn1_cache)\n",
    "\n",
    "  gamma -= lr * dgamma\n",
    "  dbeta -= lr * dbeta\n",
    "\n",
    "  dx, dw, db = affine_backward(dx, cache1)\n",
    "\n",
    "  W1 -= lr * dw\n",
    "  b1 -= lr * db\n",
    "\n",
    "  dx = dx.reshape(batch_size, block_size, D)\n",
    "\n",
    "  dw = word_embedding_backward(dx, embed_cache)\n",
    "\n",
    "  char_embeddings -= lr * dw\n"
   ]
  },
  {
   "cell_type": "code",
   "execution_count": 217,
   "id": "81f8b6f5",
   "metadata": {},
   "outputs": [
    {
     "data": {
      "image/png": "[encoded data removed]",
      "text/plain": [
       "<Figure size 640x480 with 1 Axes>"
      ]
     },
     "metadata": {},
     "output_type": "display_data"
    }
   ],
   "source": [
    "import matplotlib.pyplot as plt\n",
    "\n",
    "# plt.plot(lr_history, loss_history)\n",
    "plt.plot(loss_history)\n",
    "plt.show()"
   ]
  },
  {
   "cell_type": "code",
   "execution_count": 218,
   "id": "89554272",
   "metadata": {},
   "outputs": [
    {
     "data": {
      "text/plain": [
       "dict_keys(['mode', 'running_mean', 'running_var'])"
      ]
     },
     "execution_count": 218,
     "metadata": {},
     "output_type": "execute_result"
    }
   ],
   "source": [
    "bn_param.keys()"
   ]
  },
  {
   "cell_type": "code",
   "execution_count": 260,
   "id": "356b6dfa",
   "metadata": {},
   "outputs": [
    {
     "name": "stdout",
     "output_type": "stream",
     "text": [
      "prabinni\n",
      "manishwarishaiila\n",
      "prawishna\n",
      "pramin\n",
      "pramenasamisangoya\n",
      "praya\n",
      "prasisasali\n",
      "prathatiavishaiwashna\n",
      "prahendra\n",
      "pramindra\n"
     ]
    }
   ],
   "source": [
    "# sampling\n",
    "np.random.seed(None)\n",
    "num_samples = 10\n",
    "for _ in range(num_samples):\n",
    "  output = []\n",
    "  name = [0] * block_size\n",
    "  while True:\n",
    "    name_ = np.array(name).reshape(1, block_size)\n",
    "\n",
    "    out, _ = word_embedding_forward(name_, char_embeddings)\n",
    "\n",
    "    # affine\n",
    "    out, _ = affine_forward(out, W1, b1)\n",
    "\n",
    "    # batch normalization\n",
    "    bn_param[\"mode\"] = \"test\"\n",
    "    out, _ = batchnorm_forward(out, gamma, beta, bn_param)\n",
    "\n",
    "    # tanh\n",
    "    out, _ = tanh_forward(out)\n",
    "\n",
    "    # affine\n",
    "    out, _ = affine_forward(out, W2, b2)\n",
    "\n",
    "    dscores = softmax_loss(out)\n",
    "    index = np.random.choice(a=V, size=1, p=dscores[0]).item()\n",
    "\n",
    "    if index == 0:\n",
    "      break\n",
    "\n",
    "    name = name[1:] + [index]\n",
    "    output.append(index)\n",
    "  print(''.join(ix_to_char[ix] for ix in output))\n"
   ]
  },
  {
   "cell_type": "code",
   "execution_count": 220,
   "id": "449ebe1d",
   "metadata": {},
   "outputs": [
    {
     "data": {
      "text/plain": [
       "[<matplotlib.lines.Line2D at 0x7d751d1821b0>]"
      ]
     },
     "execution_count": 220,
     "metadata": {},
     "output_type": "execute_result"
    },
    {
     "data": {
      "image/png": "[encoded data removed]",
      "text/plain": [
       "<Figure size 640x480 with 1 Axes>"
      ]
     },
     "metadata": {},
     "output_type": "display_data"
    }
   ],
   "source": [
    "count = {}\n",
    "for nm in names:\n",
    "  if nm[0] in count:\n",
    "    count[nm[0]] += 1\n",
    "  else:\n",
    "    count[nm[0]] = 1\n",
    "\n",
    "plt.plot(count.keys(), count.values())"
   ]
  }
 ],
 "metadata": {
  "kernelspec": {
   "display_name": "3.12.2",
   "language": "python",
   "name": "python3"
  },
  "language_info": {
   "codemirror_mode": {
    "name": "ipython",
    "version": 3
   },
   "file_extension": ".py",
   "mimetype": "text/x-python",
   "name": "python",
   "nbconvert_exporter": "python",
   "pygments_lexer": "ipython3",
   "version": "3.12.2"
  }
 },
 "nbformat": 4,
 "nbformat_minor": 5
}
